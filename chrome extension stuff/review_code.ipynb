{
  "nbformat": 4,
  "nbformat_minor": 0,
  "metadata": {
    "colab": {
      "provenance": []
    },
    "kernelspec": {
      "name": "python3",
      "display_name": "Python 3"
    },
    "language_info": {
      "name": "python"
    }
  },
  "cells": [
    {
      "cell_type": "code",
      "execution_count": 25,
      "metadata": {
        "id": "LLaE_EmuTw1t"
      },
      "outputs": [],
      "source": [
        "import pandas as pd\n",
        "import numpy as np\n",
        "import matplotlib.pyplot as plt\n",
        "%matplotlib inline\n",
        "import seaborn as sns\n",
        "from nltk.tokenize import RegexpTokenizer\n",
        "from collections import OrderedDict\n",
        "\n",
        "import nltk\n",
        "from sklearn.feature_extraction.text import TfidfVectorizer\n",
        "from sklearn.linear_model import LogisticRegression,SGDClassifier\n",
        "from sklearn.metrics import classification_report, confusion_matrix, accuracy_score, recall_score, precision_score, f1_score, pairwise_distances\n",
        "from sklearn.model_selection import train_test_split"
      ]
    },
    {
      "cell_type": "code",
      "source": [
        "df = pd.read_csv(\"reviews.csv\",encoding='ISO-8859-1') # dataset"
      ],
      "metadata": {
        "id": "wfsD2nATUlxd"
      },
      "execution_count": 27,
      "outputs": []
    },
    {
      "cell_type": "code",
      "source": [
        "df.head() # headers of dataset"
      ],
      "metadata": {
        "id": "vjHAEsMtUq3n",
        "colab": {
          "base_uri": "https://localhost:8080/",
          "height": 206
        },
        "outputId": "fbafcff9-5588-46a8-96a8-b06208e93f2c"
      },
      "execution_count": 28,
      "outputs": [
        {
          "output_type": "execute_result",
          "data": {
            "text/plain": [
              "        itemid   username     userid       ctime  rating  \\\n",
              "0  22340582157  freezemip   99459454  1698928810       5   \n",
              "1  22340582157  alcharlie  446791503  1700218136       4   \n",
              "2  22340582157      exi5t  117767258  1697855946       1   \n",
              "3  22340582157    a*****n  110405626  1699258588       3   \n",
              "4  22340582157    p*****4  473727561  1703161511       4   \n",
              "\n",
              "                                             comment fakeornot  \n",
              "0  Colour:black Material Quality:ok2  Item receiv...  original  \n",
              "1  Colour:white and black strip Material Quality:...  original  \n",
              "2  Material Quality:very bad quality  even the sc...  original  \n",
              "3  Colour:ok Material Quality:good  Come differen...  original  \n",
              "4  Colour:Ok Material Quality:ok  Shoes were not ...  original  "
            ],
            "text/html": [
              "\n",
              "  <div id=\"df-69f695dd-ef1b-4629-94fc-b761d12739e1\" class=\"colab-df-container\">\n",
              "    <div>\n",
              "<style scoped>\n",
              "    .dataframe tbody tr th:only-of-type {\n",
              "        vertical-align: middle;\n",
              "    }\n",
              "\n",
              "    .dataframe tbody tr th {\n",
              "        vertical-align: top;\n",
              "    }\n",
              "\n",
              "    .dataframe thead th {\n",
              "        text-align: right;\n",
              "    }\n",
              "</style>\n",
              "<table border=\"1\" class=\"dataframe\">\n",
              "  <thead>\n",
              "    <tr style=\"text-align: right;\">\n",
              "      <th></th>\n",
              "      <th>itemid</th>\n",
              "      <th>username</th>\n",
              "      <th>userid</th>\n",
              "      <th>ctime</th>\n",
              "      <th>rating</th>\n",
              "      <th>comment</th>\n",
              "      <th>fakeornot</th>\n",
              "    </tr>\n",
              "  </thead>\n",
              "  <tbody>\n",
              "    <tr>\n",
              "      <th>0</th>\n",
              "      <td>22340582157</td>\n",
              "      <td>freezemip</td>\n",
              "      <td>99459454</td>\n",
              "      <td>1698928810</td>\n",
              "      <td>5</td>\n",
              "      <td>Colour:black Material Quality:ok2  Item receiv...</td>\n",
              "      <td>original</td>\n",
              "    </tr>\n",
              "    <tr>\n",
              "      <th>1</th>\n",
              "      <td>22340582157</td>\n",
              "      <td>alcharlie</td>\n",
              "      <td>446791503</td>\n",
              "      <td>1700218136</td>\n",
              "      <td>4</td>\n",
              "      <td>Colour:white and black strip Material Quality:...</td>\n",
              "      <td>original</td>\n",
              "    </tr>\n",
              "    <tr>\n",
              "      <th>2</th>\n",
              "      <td>22340582157</td>\n",
              "      <td>exi5t</td>\n",
              "      <td>117767258</td>\n",
              "      <td>1697855946</td>\n",
              "      <td>1</td>\n",
              "      <td>Material Quality:very bad quality  even the sc...</td>\n",
              "      <td>original</td>\n",
              "    </tr>\n",
              "    <tr>\n",
              "      <th>3</th>\n",
              "      <td>22340582157</td>\n",
              "      <td>a*****n</td>\n",
              "      <td>110405626</td>\n",
              "      <td>1699258588</td>\n",
              "      <td>3</td>\n",
              "      <td>Colour:ok Material Quality:good  Come differen...</td>\n",
              "      <td>original</td>\n",
              "    </tr>\n",
              "    <tr>\n",
              "      <th>4</th>\n",
              "      <td>22340582157</td>\n",
              "      <td>p*****4</td>\n",
              "      <td>473727561</td>\n",
              "      <td>1703161511</td>\n",
              "      <td>4</td>\n",
              "      <td>Colour:Ok Material Quality:ok  Shoes were not ...</td>\n",
              "      <td>original</td>\n",
              "    </tr>\n",
              "  </tbody>\n",
              "</table>\n",
              "</div>\n",
              "    <div class=\"colab-df-buttons\">\n",
              "\n",
              "  <div class=\"colab-df-container\">\n",
              "    <button class=\"colab-df-convert\" onclick=\"convertToInteractive('df-69f695dd-ef1b-4629-94fc-b761d12739e1')\"\n",
              "            title=\"Convert this dataframe to an interactive table.\"\n",
              "            style=\"display:none;\">\n",
              "\n",
              "  <svg xmlns=\"http://www.w3.org/2000/svg\" height=\"24px\" viewBox=\"0 -960 960 960\">\n",
              "    <path d=\"M120-120v-720h720v720H120Zm60-500h600v-160H180v160Zm220 220h160v-160H400v160Zm0 220h160v-160H400v160ZM180-400h160v-160H180v160Zm440 0h160v-160H620v160ZM180-180h160v-160H180v160Zm440 0h160v-160H620v160Z\"/>\n",
              "  </svg>\n",
              "    </button>\n",
              "\n",
              "  <style>\n",
              "    .colab-df-container {\n",
              "      display:flex;\n",
              "      gap: 12px;\n",
              "    }\n",
              "\n",
              "    .colab-df-convert {\n",
              "      background-color: #E8F0FE;\n",
              "      border: none;\n",
              "      border-radius: 50%;\n",
              "      cursor: pointer;\n",
              "      display: none;\n",
              "      fill: #1967D2;\n",
              "      height: 32px;\n",
              "      padding: 0 0 0 0;\n",
              "      width: 32px;\n",
              "    }\n",
              "\n",
              "    .colab-df-convert:hover {\n",
              "      background-color: #E2EBFA;\n",
              "      box-shadow: 0px 1px 2px rgba(60, 64, 67, 0.3), 0px 1px 3px 1px rgba(60, 64, 67, 0.15);\n",
              "      fill: #174EA6;\n",
              "    }\n",
              "\n",
              "    .colab-df-buttons div {\n",
              "      margin-bottom: 4px;\n",
              "    }\n",
              "\n",
              "    [theme=dark] .colab-df-convert {\n",
              "      background-color: #3B4455;\n",
              "      fill: #D2E3FC;\n",
              "    }\n",
              "\n",
              "    [theme=dark] .colab-df-convert:hover {\n",
              "      background-color: #434B5C;\n",
              "      box-shadow: 0px 1px 3px 1px rgba(0, 0, 0, 0.15);\n",
              "      filter: drop-shadow(0px 1px 2px rgba(0, 0, 0, 0.3));\n",
              "      fill: #FFFFFF;\n",
              "    }\n",
              "  </style>\n",
              "\n",
              "    <script>\n",
              "      const buttonEl =\n",
              "        document.querySelector('#df-69f695dd-ef1b-4629-94fc-b761d12739e1 button.colab-df-convert');\n",
              "      buttonEl.style.display =\n",
              "        google.colab.kernel.accessAllowed ? 'block' : 'none';\n",
              "\n",
              "      async function convertToInteractive(key) {\n",
              "        const element = document.querySelector('#df-69f695dd-ef1b-4629-94fc-b761d12739e1');\n",
              "        const dataTable =\n",
              "          await google.colab.kernel.invokeFunction('convertToInteractive',\n",
              "                                                    [key], {});\n",
              "        if (!dataTable) return;\n",
              "\n",
              "        const docLinkHtml = 'Like what you see? Visit the ' +\n",
              "          '<a target=\"_blank\" href=https://colab.research.google.com/notebooks/data_table.ipynb>data table notebook</a>'\n",
              "          + ' to learn more about interactive tables.';\n",
              "        element.innerHTML = '';\n",
              "        dataTable['output_type'] = 'display_data';\n",
              "        await google.colab.output.renderOutput(dataTable, element);\n",
              "        const docLink = document.createElement('div');\n",
              "        docLink.innerHTML = docLinkHtml;\n",
              "        element.appendChild(docLink);\n",
              "      }\n",
              "    </script>\n",
              "  </div>\n",
              "\n",
              "\n",
              "<div id=\"df-9284c7ce-71a4-474a-85a6-71f7f049b2c7\">\n",
              "  <button class=\"colab-df-quickchart\" onclick=\"quickchart('df-9284c7ce-71a4-474a-85a6-71f7f049b2c7')\"\n",
              "            title=\"Suggest charts\"\n",
              "            style=\"display:none;\">\n",
              "\n",
              "<svg xmlns=\"http://www.w3.org/2000/svg\" height=\"24px\"viewBox=\"0 0 24 24\"\n",
              "     width=\"24px\">\n",
              "    <g>\n",
              "        <path d=\"M19 3H5c-1.1 0-2 .9-2 2v14c0 1.1.9 2 2 2h14c1.1 0 2-.9 2-2V5c0-1.1-.9-2-2-2zM9 17H7v-7h2v7zm4 0h-2V7h2v10zm4 0h-2v-4h2v4z\"/>\n",
              "    </g>\n",
              "</svg>\n",
              "  </button>\n",
              "\n",
              "<style>\n",
              "  .colab-df-quickchart {\n",
              "      --bg-color: #E8F0FE;\n",
              "      --fill-color: #1967D2;\n",
              "      --hover-bg-color: #E2EBFA;\n",
              "      --hover-fill-color: #174EA6;\n",
              "      --disabled-fill-color: #AAA;\n",
              "      --disabled-bg-color: #DDD;\n",
              "  }\n",
              "\n",
              "  [theme=dark] .colab-df-quickchart {\n",
              "      --bg-color: #3B4455;\n",
              "      --fill-color: #D2E3FC;\n",
              "      --hover-bg-color: #434B5C;\n",
              "      --hover-fill-color: #FFFFFF;\n",
              "      --disabled-bg-color: #3B4455;\n",
              "      --disabled-fill-color: #666;\n",
              "  }\n",
              "\n",
              "  .colab-df-quickchart {\n",
              "    background-color: var(--bg-color);\n",
              "    border: none;\n",
              "    border-radius: 50%;\n",
              "    cursor: pointer;\n",
              "    display: none;\n",
              "    fill: var(--fill-color);\n",
              "    height: 32px;\n",
              "    padding: 0;\n",
              "    width: 32px;\n",
              "  }\n",
              "\n",
              "  .colab-df-quickchart:hover {\n",
              "    background-color: var(--hover-bg-color);\n",
              "    box-shadow: 0 1px 2px rgba(60, 64, 67, 0.3), 0 1px 3px 1px rgba(60, 64, 67, 0.15);\n",
              "    fill: var(--button-hover-fill-color);\n",
              "  }\n",
              "\n",
              "  .colab-df-quickchart-complete:disabled,\n",
              "  .colab-df-quickchart-complete:disabled:hover {\n",
              "    background-color: var(--disabled-bg-color);\n",
              "    fill: var(--disabled-fill-color);\n",
              "    box-shadow: none;\n",
              "  }\n",
              "\n",
              "  .colab-df-spinner {\n",
              "    border: 2px solid var(--fill-color);\n",
              "    border-color: transparent;\n",
              "    border-bottom-color: var(--fill-color);\n",
              "    animation:\n",
              "      spin 1s steps(1) infinite;\n",
              "  }\n",
              "\n",
              "  @keyframes spin {\n",
              "    0% {\n",
              "      border-color: transparent;\n",
              "      border-bottom-color: var(--fill-color);\n",
              "      border-left-color: var(--fill-color);\n",
              "    }\n",
              "    20% {\n",
              "      border-color: transparent;\n",
              "      border-left-color: var(--fill-color);\n",
              "      border-top-color: var(--fill-color);\n",
              "    }\n",
              "    30% {\n",
              "      border-color: transparent;\n",
              "      border-left-color: var(--fill-color);\n",
              "      border-top-color: var(--fill-color);\n",
              "      border-right-color: var(--fill-color);\n",
              "    }\n",
              "    40% {\n",
              "      border-color: transparent;\n",
              "      border-right-color: var(--fill-color);\n",
              "      border-top-color: var(--fill-color);\n",
              "    }\n",
              "    60% {\n",
              "      border-color: transparent;\n",
              "      border-right-color: var(--fill-color);\n",
              "    }\n",
              "    80% {\n",
              "      border-color: transparent;\n",
              "      border-right-color: var(--fill-color);\n",
              "      border-bottom-color: var(--fill-color);\n",
              "    }\n",
              "    90% {\n",
              "      border-color: transparent;\n",
              "      border-bottom-color: var(--fill-color);\n",
              "    }\n",
              "  }\n",
              "</style>\n",
              "\n",
              "  <script>\n",
              "    async function quickchart(key) {\n",
              "      const quickchartButtonEl =\n",
              "        document.querySelector('#' + key + ' button');\n",
              "      quickchartButtonEl.disabled = true;  // To prevent multiple clicks.\n",
              "      quickchartButtonEl.classList.add('colab-df-spinner');\n",
              "      try {\n",
              "        const charts = await google.colab.kernel.invokeFunction(\n",
              "            'suggestCharts', [key], {});\n",
              "      } catch (error) {\n",
              "        console.error('Error during call to suggestCharts:', error);\n",
              "      }\n",
              "      quickchartButtonEl.classList.remove('colab-df-spinner');\n",
              "      quickchartButtonEl.classList.add('colab-df-quickchart-complete');\n",
              "    }\n",
              "    (() => {\n",
              "      let quickchartButtonEl =\n",
              "        document.querySelector('#df-9284c7ce-71a4-474a-85a6-71f7f049b2c7 button');\n",
              "      quickchartButtonEl.style.display =\n",
              "        google.colab.kernel.accessAllowed ? 'block' : 'none';\n",
              "    })();\n",
              "  </script>\n",
              "</div>\n",
              "\n",
              "    </div>\n",
              "  </div>\n"
            ]
          },
          "metadata": {},
          "execution_count": 28
        }
      ]
    },
    {
      "cell_type": "code",
      "source": [],
      "metadata": {
        "id": "sdPUU-2Zd0m2"
      },
      "execution_count": null,
      "outputs": []
    },
    {
      "cell_type": "code",
      "source": [
        "df.isna().sum() # look for None values and delete them"
      ],
      "metadata": {
        "id": "GXXGKJ8aUzdy",
        "colab": {
          "base_uri": "https://localhost:8080/"
        },
        "outputId": "e1799ed6-db74-464f-9ae6-5ae524b8bd21"
      },
      "execution_count": 29,
      "outputs": [
        {
          "output_type": "execute_result",
          "data": {
            "text/plain": [
              "itemid       0\n",
              "username     0\n",
              "userid       0\n",
              "ctime        0\n",
              "rating       0\n",
              "comment      0\n",
              "fakeornot    0\n",
              "dtype: int64"
            ]
          },
          "metadata": {},
          "execution_count": 29
        }
      ]
    },
    {
      "cell_type": "code",
      "source": [
        "df['comment'] = df.apply(lambda row: str(row['comment']).lower(), axis=1) # lowercase\n",
        "tokenizer = RegexpTokenizer(r'\\w+')\n",
        "df['comment'] = df['comment'].apply(lambda x: ' '.join(word for word in tokenizer.tokenize(x))) # remove punctuation but word tokenization\n"
      ],
      "metadata": {
        "id": "RarUptP2Uzu5"
      },
      "execution_count": 30,
      "outputs": []
    },
    {
      "cell_type": "code",
      "source": [
        "df['review_length'] = df['comment'].apply(lambda x: len(x.split())) # review word count"
      ],
      "metadata": {
        "id": "6ytVcSLwUz6K"
      },
      "execution_count": 31,
      "outputs": []
    },
    {
      "cell_type": "code",
      "source": [
        "df['date'] = pd.to_datetime(df['ctime'],unit='s').dt.date #date column\n",
        "df['time'] = pd.to_datetime(df['ctime'],unit='s').dt.time # time column"
      ],
      "metadata": {
        "id": "OJlwzuN_U0Dp"
      },
      "execution_count": 32,
      "outputs": []
    },
    {
      "cell_type": "code",
      "source": [
        "mnr_df1 = df[['userid', 'date']].copy()\n",
        "mnr_df2 = mnr_df1.groupby(by=['date', 'userid']).size().reset_index(name='mnr')\n",
        "mnr_df2['mnr'] = mnr_df2['mnr'] / mnr_df2['mnr'].max() #finds the number of reviews made in 1 day/number of reviews ever made by this user\n",
        "df = df.merge(mnr_df2, on=['userid', 'date'], how='inner')"
      ],
      "metadata": {
        "id": "cOGuU7Z5U0Mk"
      },
      "execution_count": 33,
      "outputs": []
    },
    {
      "cell_type": "code",
      "source": [
        "review_data = df\n",
        "res = OrderedDict()\n",
        "\n",
        "# Iterate over data and create groups of reviewers\n",
        "for row in review_data.iterrows():\n",
        "    if row[1].userid in res:\n",
        "        res[row[1].userid].append(row[1].comment) #add comment to existing user\n",
        "    else:\n",
        "        res[row[1].userid] = [row[1].comment] # new user\n",
        "\n",
        "individual_reviewer = [{'userid': k, 'comment': v} for k, v in res.items()]\n",
        "df2 = dict()\n",
        "df2['userid'] = pd.Series([])\n",
        "df2['Maximum Content Similarity'] = pd.Series([])\n",
        "vector = TfidfVectorizer(min_df=0)\n",
        "count = -1\n",
        "for reviewer_data in individual_reviewer:\n",
        "    count = count + 1\n",
        "    try:\n",
        "        tfidf = vector.fit_transform(reviewer_data['comment'])\n",
        "    except:\n",
        "        pass\n",
        "    cosine = 1 - pairwise_distances(tfidf, metric='cosine')\n",
        "\n",
        "    np.fill_diagonal(cosine, -np.inf)\n",
        "    max = cosine.max()\n",
        "\n",
        "    # To handle reviewier with just 1 review\n",
        "    if max == -np.inf:\n",
        "        max = 0\n",
        "    df2['userid'][count] = reviewer_data['userid']\n",
        "    df2['Maximum Content Similarity'][count] = max\n",
        "\n",
        "df3 = pd.DataFrame(df2, columns=['userid', 'Maximum Content Similarity'])\n",
        "\n",
        "df = pd.merge(review_data, df3, on=\"userid\", how=\"left\")\n",
        "df.drop(index=np.where(pd.isnull(df))[0], axis=0, inplace=True) #merge df and df3\n",
        "\n",
        "df.drop(['itemid', 'userid', 'username', 'ctime', 'rating', 'comment'], axis=1, inplace=True) # remove anything that is not relevant\n"
      ],
      "metadata": {
        "id": "6NgEiEe0Xp-4",
        "colab": {
          "base_uri": "https://localhost:8080/"
        },
        "outputId": "33c5876e-46eb-41db-df28-84afec6ddb5a"
      },
      "execution_count": 34,
      "outputs": [
        {
          "output_type": "stream",
          "name": "stderr",
          "text": [
            "<ipython-input-34-b4b92fa72273>:13: FutureWarning: The default dtype for empty Series will be 'object' instead of 'float64' in a future version. Specify a dtype explicitly to silence this warning.\n",
            "  df2['userid'] = pd.Series([])\n",
            "<ipython-input-34-b4b92fa72273>:14: FutureWarning: The default dtype for empty Series will be 'object' instead of 'float64' in a future version. Specify a dtype explicitly to silence this warning.\n",
            "  df2['Maximum Content Similarity'] = pd.Series([])\n"
          ]
        }
      ]
    },
    {
      "cell_type": "code",
      "source": [
        "X = df[['review_length', 'mnr', 'Maximum Content Similarity']]\n",
        "y = df['fakeornot']"
      ],
      "metadata": {
        "id": "llRWkBHoXqk-"
      },
      "execution_count": 35,
      "outputs": []
    },
    {
      "cell_type": "code",
      "source": [
        "X_train, X_test, y_train, y_test = train_test_split(X, y, test_size = 0.3, random_state=42) #dataset training"
      ],
      "metadata": {
        "id": "VHozZr78Xqvi"
      },
      "execution_count": 37,
      "outputs": []
    },
    {
      "cell_type": "code",
      "source": [
        "c_val = [0.75, 1, 2, 3, 4, 5, 10]\n",
        "\n",
        "for c in c_val:\n",
        "    logreg = LogisticRegression(C=c)\n",
        "    logreg.fit(X_train, y_train)\n",
        "    print (\"Accuracy for C=%s: %s\" % (c, accuracy_score(y_test, logreg.predict(X_test))))"
      ],
      "metadata": {
        "id": "TrvVnfOxXq5R",
        "colab": {
          "base_uri": "https://localhost:8080/"
        },
        "outputId": "8a86708c-5e85-4356-8577-cd43b1434231"
      },
      "execution_count": 38,
      "outputs": [
        {
          "output_type": "stream",
          "name": "stdout",
          "text": [
            "Accuracy for C=0.75: 0.9041095890410958\n",
            "Accuracy for C=1: 0.9178082191780822\n",
            "Accuracy for C=2: 0.9178082191780822\n",
            "Accuracy for C=3: 0.9178082191780822\n",
            "Accuracy for C=4: 0.9178082191780822\n",
            "Accuracy for C=5: 0.9178082191780822\n",
            "Accuracy for C=10: 0.9178082191780822\n"
          ]
        }
      ]
    },
    {
      "cell_type": "code",
      "source": [
        "confusionMatrix = confusion_matrix(y_test, logreg.predict(X_test)) #TN FP FN TP\n",
        "confusionMatrix"
      ],
      "metadata": {
        "id": "MLYeXoZuXrDm",
        "colab": {
          "base_uri": "https://localhost:8080/"
        },
        "outputId": "760cb942-2bf0-448a-d92f-ad598fb42e60"
      },
      "execution_count": 39,
      "outputs": [
        {
          "output_type": "execute_result",
          "data": {
            "text/plain": [
              "array([[ 8,  6],\n",
              "       [ 0, 59]])"
            ]
          },
          "metadata": {},
          "execution_count": 39
        }
      ]
    },
    {
      "cell_type": "code",
      "source": [
        "confusionMatrix = pd.DataFrame(confusionMatrix, index=[0,1], columns=[0,1])\n",
        "confusionMatrix.index.name = 'Actual'\n",
        "confusionMatrix.columns.name = 'Predicted'\n",
        "\n",
        "plt.figure(figsize = (10,10))\n",
        "sns.heatmap(confusionMatrix, cmap= \"Blues\",annot = True, fmt='')"
      ],
      "metadata": {
        "id": "Wwdc7uMkXrNs",
        "colab": {
          "base_uri": "https://localhost:8080/",
          "height": 867
        },
        "outputId": "e5ae77f1-d63e-4c47-ae2d-94bf14f045ec"
      },
      "execution_count": 40,
      "outputs": [
        {
          "output_type": "execute_result",
          "data": {
            "text/plain": [
              "<Axes: xlabel='Predicted', ylabel='Actual'>"
            ]
          },
          "metadata": {},
          "execution_count": 40
        },
        {
          "output_type": "display_data",
          "data": {
            "text/plain": [
              "<Figure size 1000x1000 with 2 Axes>"
            ],
            "image/png": "[encoded data removed]"
          },
          "metadata": {}
        }
      ]
    },
    {
      "cell_type": "code",
      "source": [
        "predicted = logreg.predict(X_test)\n",
        "print('Accuracy Score : ' + str(accuracy_score(y_test, predicted)))\n",
        "print('Precision Score : ' + str(precision_score(y_test, predicted, pos_label=\"original\")))\n",
        "print('Recall Score : ' + str(recall_score(y_test, predicted, pos_label=\"original\"))) #correctly predicted positive instances to all actual positive instances.\n",
        "print('F1 Score : ' + str(f1_score(y_test, predicted, pos_label=\"original\"))) #balance between precision and recall"
      ],
      "metadata": {
        "id": "JEpynbZGXrXJ",
        "colab": {
          "base_uri": "https://localhost:8080/"
        },
        "outputId": "1007268e-7c6b-4c0f-da2f-fb2f0674eb12"
      },
      "execution_count": 41,
      "outputs": [
        {
          "output_type": "stream",
          "name": "stdout",
          "text": [
            "Accuracy Score : 0.9178082191780822\n",
            "Precision Score : 0.9076923076923077\n",
            "Recall Score : 1.0\n",
            "F1 Score : 0.9516129032258065\n"
          ]
        }
      ]
    },
    {
      "cell_type": "code",
      "source": [
        "test = pd.read_csv(\"reviews.csv\", encoding='ISO-8859-1')"
      ],
      "metadata": {
        "id": "BlfmtDpN18Zt"
      },
      "execution_count": 43,
      "outputs": []
    },
    {
      "cell_type": "code",
      "source": [
        "test['comment'] = test.apply(lambda row: str(row['comment']).lower(), axis=1)\n",
        "# Preprocessing\n",
        "# Remove Punctuations\n",
        "tokenizer = RegexpTokenizer(r'\\w+')\n",
        "test['comment'] = test['comment'].apply(lambda x: ' '.join(word for word in tokenizer.tokenize(x)))\n",
        "# Feature Engineering\n",
        "test['review_length'] = test['comment'].apply(lambda x: len(x.split()))\n",
        "\n",
        "# Convert UNIX timestamp to date and time\n",
        "test['date'] = pd.to_datetime(test['ctime'],unit='s').dt.date\n",
        "test['time'] = pd.to_datetime(test['ctime'],unit='s').dt.time\n",
        "\n",
        "# Maximum Number of Reviews per day per reviewer\n",
        "mnr_df1 = test[['userid', 'date']].copy()\n",
        "mnr_df2 = mnr_df1.groupby(by=['date', 'userid']).size().reset_index(name='mnr')\n",
        "mnr_df2['mnr'] = mnr_df2['mnr'] / mnr_df2['mnr'].max()\n",
        "test = test.merge(mnr_df2, on=['userid', 'date'], how='inner')\n",
        "# Cosine Similarity\n",
        "review_data = test\n",
        "res = OrderedDict()\n",
        "\n",
        "# Iterate over data and create groups of reviewers\n",
        "for row in review_data.iterrows():\n",
        "    if row[1].userid in res:\n",
        "        res[row[1].userid].append(row[1].comment)\n",
        "    else:\n",
        "        res[row[1].userid] = [row[1].comment]\n",
        "\n",
        "individual_reviewer = [{'userid': k, 'comment': v} for k, v in res.items()]\n",
        "df2 = dict()\n",
        "df2['userid'] = pd.Series([])\n",
        "df2['Maximum Content Similarity'] = pd.Series([])\n",
        "vector = TfidfVectorizer(min_df=0)\n",
        "count = -1\n",
        "for reviewer_data in individual_reviewer:\n",
        "    count = count + 1\n",
        "    try:\n",
        "        tfidf = vector.fit_transform(reviewer_data['comment'])\n",
        "    except:\n",
        "        pass\n",
        "    cosine = 1 - pairwise_distances(tfidf, metric='cosine')\n",
        "\n",
        "    np.fill_diagonal(cosine, -np.inf)\n",
        "    max = cosine.max()\n",
        "\n",
        "    # To handle reviewier with just one review\n",
        "    if max == -np.inf:\n",
        "        max = 0\n",
        "    df2['userid'][count] = reviewer_data['userid']\n",
        "    df2['Maximum Content Similarity'][count] = max\n",
        "\n",
        "df3 = pd.DataFrame(df2, columns=['userid', 'Maximum Content Similarity'])\n",
        "# left outer join on original datamatrix and cosine dataframe\n",
        "test = pd.merge(review_data, df3, on=\"userid\", how=\"left\")\n",
        "df.drop(index=np.where(pd.isnull(df))[0], axis=0, inplace=True)\n",
        "\n",
        "logreg = LogisticRegression(C=10)\n",
        "logreg.fit(X_train, y_train)"
      ],
      "metadata": {
        "id": "cg1xtZyz1801",
        "colab": {
          "base_uri": "https://localhost:8080/",
          "height": 164
        },
        "outputId": "a3962e3b-811b-4a65-a5e5-6a2f5cb0e92f"
      },
      "execution_count": 45,
      "outputs": [
        {
          "output_type": "stream",
          "name": "stderr",
          "text": [
            "<ipython-input-45-9ac77adf95b2>:31: FutureWarning: The default dtype for empty Series will be 'object' instead of 'float64' in a future version. Specify a dtype explicitly to silence this warning.\n",
            "  df2['userid'] = pd.Series([])\n",
            "<ipython-input-45-9ac77adf95b2>:32: FutureWarning: The default dtype for empty Series will be 'object' instead of 'float64' in a future version. Specify a dtype explicitly to silence this warning.\n",
            "  df2['Maximum Content Similarity'] = pd.Series([])\n"
          ]
        },
        {
          "output_type": "execute_result",
          "data": {
            "text/plain": [
              "LogisticRegression(C=10)"
            ],
            "text/html": [
              "<style>#sk-container-id-1 {color: black;background-color: white;}#sk-container-id-1 pre{padding: 0;}#sk-container-id-1 div.sk-toggleable {background-color: white;}#sk-container-id-1 label.sk-toggleable__label {cursor: pointer;display: block;width: 100%;margin-bottom: 0;padding: 0.3em;box-sizing: border-box;text-align: center;}#sk-container-id-1 label.sk-toggleable__label-arrow:before {content: \"▸\";float: left;margin-right: 0.25em;color: #696969;}#sk-container-id-1 label.sk-toggleable__label-arrow:hover:before {color: black;}#sk-container-id-1 div.sk-estimator:hover label.sk-toggleable__label-arrow:before {color: black;}#sk-container-id-1 div.sk-toggleable__content {max-height: 0;max-width: 0;overflow: hidden;text-align: left;background-color: #f0f8ff;}#sk-container-id-1 div.sk-toggleable__content pre {margin: 0.2em;color: black;border-radius: 0.25em;background-color: #f0f8ff;}#sk-container-id-1 input.sk-toggleable__control:checked~div.sk-toggleable__content {max-height: 200px;max-width: 100%;overflow: auto;}#sk-container-id-1 input.sk-toggleable__control:checked~label.sk-toggleable__label-arrow:before {content: \"▾\";}#sk-container-id-1 div.sk-estimator input.sk-toggleable__control:checked~label.sk-toggleable__label {background-color: #d4ebff;}#sk-container-id-1 div.sk-label input.sk-toggleable__control:checked~label.sk-toggleable__label {background-color: #d4ebff;}#sk-container-id-1 input.sk-hidden--visually {border: 0;clip: rect(1px 1px 1px 1px);clip: rect(1px, 1px, 1px, 1px);height: 1px;margin: -1px;overflow: hidden;padding: 0;position: absolute;width: 1px;}#sk-container-id-1 div.sk-estimator {font-family: monospace;background-color: #f0f8ff;border: 1px dotted black;border-radius: 0.25em;box-sizing: border-box;margin-bottom: 0.5em;}#sk-container-id-1 div.sk-estimator:hover {background-color: #d4ebff;}#sk-container-id-1 div.sk-parallel-item::after {content: \"\";width: 100%;border-bottom: 1px solid gray;flex-grow: 1;}#sk-container-id-1 div.sk-label:hover label.sk-toggleable__label {background-color: #d4ebff;}#sk-container-id-1 div.sk-serial::before {content: \"\";position: absolute;border-left: 1px solid gray;box-sizing: border-box;top: 0;bottom: 0;left: 50%;z-index: 0;}#sk-container-id-1 div.sk-serial {display: flex;flex-direction: column;align-items: center;background-color: white;padding-right: 0.2em;padding-left: 0.2em;position: relative;}#sk-container-id-1 div.sk-item {position: relative;z-index: 1;}#sk-container-id-1 div.sk-parallel {display: flex;align-items: stretch;justify-content: center;background-color: white;position: relative;}#sk-container-id-1 div.sk-item::before, #sk-container-id-1 div.sk-parallel-item::before {content: \"\";position: absolute;border-left: 1px solid gray;box-sizing: border-box;top: 0;bottom: 0;left: 50%;z-index: -1;}#sk-container-id-1 div.sk-parallel-item {display: flex;flex-direction: column;z-index: 1;position: relative;background-color: white;}#sk-container-id-1 div.sk-parallel-item:first-child::after {align-self: flex-end;width: 50%;}#sk-container-id-1 div.sk-parallel-item:last-child::after {align-self: flex-start;width: 50%;}#sk-container-id-1 div.sk-parallel-item:only-child::after {width: 0;}#sk-container-id-1 div.sk-dashed-wrapped {border: 1px dashed gray;margin: 0 0.4em 0.5em 0.4em;box-sizing: border-box;padding-bottom: 0.4em;background-color: white;}#sk-container-id-1 div.sk-label label {font-family: monospace;font-weight: bold;display: inline-block;line-height: 1.2em;}#sk-container-id-1 div.sk-label-container {text-align: center;}#sk-container-id-1 div.sk-container {/* jupyter's `normalize.less` sets `[hidden] { display: none; }` but bootstrap.min.css set `[hidden] { display: none !important; }` so we also need the `!important` here to be able to override the default hidden behavior on the sphinx rendered scikit-learn.org. See: https://github.com/scikit-learn/scikit-learn/issues/21755 */display: inline-block !important;position: relative;}#sk-container-id-1 div.sk-text-repr-fallback {display: none;}</style><div id=\"sk-container-id-1\" class=\"sk-top-container\"><div class=\"sk-text-repr-fallback\"><pre>LogisticRegression(C=10)</pre><b>In a Jupyter environment, please rerun this cell to show the HTML representation or trust the notebook. <br />On GitHub, the HTML representation is unable to render, please try loading this page with nbviewer.org.</b></div><div class=\"sk-container\" hidden><div class=\"sk-item\"><div class=\"sk-estimator sk-toggleable\"><input class=\"sk-toggleable__control sk-hidden--visually\" id=\"sk-estimator-id-1\" type=\"checkbox\" checked><label for=\"sk-estimator-id-1\" class=\"sk-toggleable__label sk-toggleable__label-arrow\">LogisticRegression</label><div class=\"sk-toggleable__content\"><pre>LogisticRegression(C=10)</pre></div></div></div></div></div>"
            ]
          },
          "metadata": {},
          "execution_count": 45
        }
      ]
    },
    {
      "cell_type": "code",
      "source": [
        "test['fakeornot'] = 'none' #changing fakeornot to none so can reassign"
      ],
      "metadata": {
        "id": "1_0EYD3e18-f"
      },
      "execution_count": 46,
      "outputs": []
    },
    {
      "cell_type": "code",
      "source": [
      ],
      "metadata": {
        "id": "2aUmGAL619HP"
      },
      "execution_count": 47,
      "outputs": []
    },
    {
      "cell_type": "code",
      "source": [
        "test.head()"
      ],
      "metadata": {
        "id": "A7uGL37d19Oa",
        "colab": {
          "base_uri": "https://localhost:8080/",
          "height": 640
        },
        "outputId": "5de771c7-e85c-4572-8a58-9e7d52f2fe81"
      },
      "execution_count": 48,
      "outputs": [
        {
          "output_type": "execute_result",
          "data": {
            "text/plain": [
              "        itemid   username     userid       ctime  rating  \\\n",
              "0  22340582157  freezemip   99459454  1698928810       5   \n",
              "1  22340582157  freezemip   99459454  1698928810       5   \n",
              "2  22340582157  alcharlie  446791503  1700218136       4   \n",
              "3  22340582157  alcharlie  446791503  1700218136       4   \n",
              "4  22340582157      exi5t  117767258  1697855946       1   \n",
              "\n",
              "                                             comment fakeornot  review_length  \\\n",
              "0  colour black material quality ok2 item receive...  original             14   \n",
              "1  colour black material quality ok2 item receive...  original             14   \n",
              "2  colour white and black strip material quality ...  original             16   \n",
              "3  colour white and black strip material quality ...  original             16   \n",
              "4  material quality very bad quality even the sch...  original             14   \n",
              "\n",
              "         date      time  mnr  Maximum Content Similarity  \n",
              "0  2023-11-02  12:40:10  1.0                         1.0  \n",
              "1  2023-11-02  12:40:10  1.0                         1.0  \n",
              "2  2023-11-17  10:48:56  1.0                         1.0  \n",
              "3  2023-11-17  10:48:56  1.0                         1.0  \n",
              "4  2023-10-21  02:39:06  1.0                         1.0  "
            ],
            "text/html": [
              "\n",
              "  <div id=\"df-cfb5775b-f906-4020-9516-b87c002a5b1c\" class=\"colab-df-container\">\n",
              "    <div>\n",
              "<style scoped>\n",
              "    .dataframe tbody tr th:only-of-type {\n",
              "        vertical-align: middle;\n",
              "    }\n",
              "\n",
              "    .dataframe tbody tr th {\n",
              "        vertical-align: top;\n",
              "    }\n",
              "\n",
              "    .dataframe thead th {\n",
              "        text-align: right;\n",
              "    }\n",
              "</style>\n",
              "<table border=\"1\" class=\"dataframe\">\n",
              "  <thead>\n",
              "    <tr style=\"text-align: right;\">\n",
              "      <th></th>\n",
              "      <th>itemid</th>\n",
              "      <th>username</th>\n",
              "      <th>userid</th>\n",
              "      <th>ctime</th>\n",
              "      <th>rating</th>\n",
              "      <th>comment</th>\n",
              "      <th>fakeornot</th>\n",
              "      <th>review_length</th>\n",
              "      <th>date</th>\n",
              "      <th>time</th>\n",
              "      <th>mnr</th>\n",
              "      <th>Maximum Content Similarity</th>\n",
              "    </tr>\n",
              "  </thead>\n",
              "  <tbody>\n",
              "    <tr>\n",
              "      <th>0</th>\n",
              "      <td>22340582157</td>\n",
              "      <td>freezemip</td>\n",
              "      <td>99459454</td>\n",
              "      <td>1698928810</td>\n",
              "      <td>5</td>\n",
              "      <td>colour black material quality ok2 item receive...</td>\n",
              "      <td>original</td>\n",
              "      <td>14</td>\n",
              "      <td>2023-11-02</td>\n",
              "      <td>12:40:10</td>\n",
              "      <td>1.0</td>\n",
              "      <td>1.0</td>\n",
              "    </tr>\n",
              "    <tr>\n",
              "      <th>1</th>\n",
              "      <td>22340582157</td>\n",
              "      <td>freezemip</td>\n",
              "      <td>99459454</td>\n",
              "      <td>1698928810</td>\n",
              "      <td>5</td>\n",
              "      <td>colour black material quality ok2 item receive...</td>\n",
              "      <td>original</td>\n",
              "      <td>14</td>\n",
              "      <td>2023-11-02</td>\n",
              "      <td>12:40:10</td>\n",
              "      <td>1.0</td>\n",
              "      <td>1.0</td>\n",
              "    </tr>\n",
              "    <tr>\n",
              "      <th>2</th>\n",
              "      <td>22340582157</td>\n",
              "      <td>alcharlie</td>\n",
              "      <td>446791503</td>\n",
              "      <td>1700218136</td>\n",
              "      <td>4</td>\n",
              "      <td>colour white and black strip material quality ...</td>\n",
              "      <td>original</td>\n",
              "      <td>16</td>\n",
              "      <td>2023-11-17</td>\n",
              "      <td>10:48:56</td>\n",
              "      <td>1.0</td>\n",
              "      <td>1.0</td>\n",
              "    </tr>\n",
              "    <tr>\n",
              "      <th>3</th>\n",
              "      <td>22340582157</td>\n",
              "      <td>alcharlie</td>\n",
              "      <td>446791503</td>\n",
              "      <td>1700218136</td>\n",
              "      <td>4</td>\n",
              "      <td>colour white and black strip material quality ...</td>\n",
              "      <td>original</td>\n",
              "      <td>16</td>\n",
              "      <td>2023-11-17</td>\n",
              "      <td>10:48:56</td>\n",
              "      <td>1.0</td>\n",
              "      <td>1.0</td>\n",
              "    </tr>\n",
              "    <tr>\n",
              "      <th>4</th>\n",
              "      <td>22340582157</td>\n",
              "      <td>exi5t</td>\n",
              "      <td>117767258</td>\n",
              "      <td>1697855946</td>\n",
              "      <td>1</td>\n",
              "      <td>material quality very bad quality even the sch...</td>\n",
              "      <td>original</td>\n",
              "      <td>14</td>\n",
              "      <td>2023-10-21</td>\n",
              "      <td>02:39:06</td>\n",
              "      <td>1.0</td>\n",
              "      <td>1.0</td>\n",
              "    </tr>\n",
              "  </tbody>\n",
              "</table>\n",
              "</div>\n",
              "    <div class=\"colab-df-buttons\">\n",
              "\n",
              "  <div class=\"colab-df-container\">\n",
              "    <button class=\"colab-df-convert\" onclick=\"convertToInteractive('df-cfb5775b-f906-4020-9516-b87c002a5b1c')\"\n",
              "            title=\"Convert this dataframe to an interactive table.\"\n",
              "            style=\"display:none;\">\n",
              "\n",
              "  <svg xmlns=\"http://www.w3.org/2000/svg\" height=\"24px\" viewBox=\"0 -960 960 960\">\n",
              "    <path d=\"M120-120v-720h720v720H120Zm60-500h600v-160H180v160Zm220 220h160v-160H400v160Zm0 220h160v-160H400v160ZM180-400h160v-160H180v160Zm440 0h160v-160H620v160ZM180-180h160v-160H180v160Zm440 0h160v-160H620v160Z\"/>\n",
              "  </svg>\n",
              "    </button>\n",
              "\n",
              "  <style>\n",
              "    .colab-df-container {\n",
              "      display:flex;\n",
              "      gap: 12px;\n",
              "    }\n",
              "\n",
              "    .colab-df-convert {\n",
              "      background-color: #E8F0FE;\n",
              "      border: none;\n",
              "      border-radius: 50%;\n",
              "      cursor: pointer;\n",
              "      display: none;\n",
              "      fill: #1967D2;\n",
              "      height: 32px;\n",
              "      padding: 0 0 0 0;\n",
              "      width: 32px;\n",
              "    }\n",
              "\n",
              "    .colab-df-convert:hover {\n",
              "      background-color: #E2EBFA;\n",
              "      box-shadow: 0px 1px 2px rgba(60, 64, 67, 0.3), 0px 1px 3px 1px rgba(60, 64, 67, 0.15);\n",
              "      fill: #174EA6;\n",
              "    }\n",
              "\n",
              "    .colab-df-buttons div {\n",
              "      margin-bottom: 4px;\n",
              "    }\n",
              "\n",
              "    [theme=dark] .colab-df-convert {\n",
              "      background-color: #3B4455;\n",
              "      fill: #D2E3FC;\n",
              "    }\n",
              "\n",
              "    [theme=dark] .colab-df-convert:hover {\n",
              "      background-color: #434B5C;\n",
              "      box-shadow: 0px 1px 3px 1px rgba(0, 0, 0, 0.15);\n",
              "      filter: drop-shadow(0px 1px 2px rgba(0, 0, 0, 0.3));\n",
              "      fill: #FFFFFF;\n",
              "    }\n",
              "  </style>\n",
              "\n",
              "    <script>\n",
              "      const buttonEl =\n",
              "        document.querySelector('#df-cfb5775b-f906-4020-9516-b87c002a5b1c button.colab-df-convert');\n",
              "      buttonEl.style.display =\n",
              "        google.colab.kernel.accessAllowed ? 'block' : 'none';\n",
              "\n",
              "      async function convertToInteractive(key) {\n",
              "        const element = document.querySelector('#df-cfb5775b-f906-4020-9516-b87c002a5b1c');\n",
              "        const dataTable =\n",
              "          await google.colab.kernel.invokeFunction('convertToInteractive',\n",
              "                                                    [key], {});\n",
              "        if (!dataTable) return;\n",
              "\n",
              "        const docLinkHtml = 'Like what you see? Visit the ' +\n",
              "          '<a target=\"_blank\" href=https://colab.research.google.com/notebooks/data_table.ipynb>data table notebook</a>'\n",
              "          + ' to learn more about interactive tables.';\n",
              "        element.innerHTML = '';\n",
              "        dataTable['output_type'] = 'display_data';\n",
              "        await google.colab.output.renderOutput(dataTable, element);\n",
              "        const docLink = document.createElement('div');\n",
              "        docLink.innerHTML = docLinkHtml;\n",
              "        element.appendChild(docLink);\n",
              "      }\n",
              "    </script>\n",
              "  </div>\n",
              "\n",
              "\n",
              "<div id=\"df-f6fe9a63-8e55-4a4f-a3a8-d0ac96678e14\">\n",
              "  <button class=\"colab-df-quickchart\" onclick=\"quickchart('df-f6fe9a63-8e55-4a4f-a3a8-d0ac96678e14')\"\n",
              "            title=\"Suggest charts\"\n",
              "            style=\"display:none;\">\n",
              "\n",
              "<svg xmlns=\"http://www.w3.org/2000/svg\" height=\"24px\"viewBox=\"0 0 24 24\"\n",
              "     width=\"24px\">\n",
              "    <g>\n",
              "        <path d=\"M19 3H5c-1.1 0-2 .9-2 2v14c0 1.1.9 2 2 2h14c1.1 0 2-.9 2-2V5c0-1.1-.9-2-2-2zM9 17H7v-7h2v7zm4 0h-2V7h2v10zm4 0h-2v-4h2v4z\"/>\n",
              "    </g>\n",
              "</svg>\n",
              "  </button>\n",
              "\n",
              "<style>\n",
              "  .colab-df-quickchart {\n",
              "      --bg-color: #E8F0FE;\n",
              "      --fill-color: #1967D2;\n",
              "      --hover-bg-color: #E2EBFA;\n",
              "      --hover-fill-color: #174EA6;\n",
              "      --disabled-fill-color: #AAA;\n",
              "      --disabled-bg-color: #DDD;\n",
              "  }\n",
              "\n",
              "  [theme=dark] .colab-df-quickchart {\n",
              "      --bg-color: #3B4455;\n",
              "      --fill-color: #D2E3FC;\n",
              "      --hover-bg-color: #434B5C;\n",
              "      --hover-fill-color: #FFFFFF;\n",
              "      --disabled-bg-color: #3B4455;\n",
              "      --disabled-fill-color: #666;\n",
              "  }\n",
              "\n",
              "  .colab-df-quickchart {\n",
              "    background-color: var(--bg-color);\n",
              "    border: none;\n",
              "    border-radius: 50%;\n",
              "    cursor: pointer;\n",
              "    display: none;\n",
              "    fill: var(--fill-color);\n",
              "    height: 32px;\n",
              "    padding: 0;\n",
              "    width: 32px;\n",
              "  }\n",
              "\n",
              "  .colab-df-quickchart:hover {\n",
              "    background-color: var(--hover-bg-color);\n",
              "    box-shadow: 0 1px 2px rgba(60, 64, 67, 0.3), 0 1px 3px 1px rgba(60, 64, 67, 0.15);\n",
              "    fill: var(--button-hover-fill-color);\n",
              "  }\n",
              "\n",
              "  .colab-df-quickchart-complete:disabled,\n",
              "  .colab-df-quickchart-complete:disabled:hover {\n",
              "    background-color: var(--disabled-bg-color);\n",
              "    fill: var(--disabled-fill-color);\n",
              "    box-shadow: none;\n",
              "  }\n",
              "\n",
              "  .colab-df-spinner {\n",
              "    border: 2px solid var(--fill-color);\n",
              "    border-color: transparent;\n",
              "    border-bottom-color: var(--fill-color);\n",
              "    animation:\n",
              "      spin 1s steps(1) infinite;\n",
              "  }\n",
              "\n",
              "  @keyframes spin {\n",
              "    0% {\n",
              "      border-color: transparent;\n",
              "      border-bottom-color: var(--fill-color);\n",
              "      border-left-color: var(--fill-color);\n",
              "    }\n",
              "    20% {\n",
              "      border-color: transparent;\n",
              "      border-left-color: var(--fill-color);\n",
              "      border-top-color: var(--fill-color);\n",
              "    }\n",
              "    30% {\n",
              "      border-color: transparent;\n",
              "      border-left-color: var(--fill-color);\n",
              "      border-top-color: var(--fill-color);\n",
              "      border-right-color: var(--fill-color);\n",
              "    }\n",
              "    40% {\n",
              "      border-color: transparent;\n",
              "      border-right-color: var(--fill-color);\n",
              "      border-top-color: var(--fill-color);\n",
              "    }\n",
              "    60% {\n",
              "      border-color: transparent;\n",
              "      border-right-color: var(--fill-color);\n",
              "    }\n",
              "    80% {\n",
              "      border-color: transparent;\n",
              "      border-right-color: var(--fill-color);\n",
              "      border-bottom-color: var(--fill-color);\n",
              "    }\n",
              "    90% {\n",
              "      border-color: transparent;\n",
              "      border-bottom-color: var(--fill-color);\n",
              "    }\n",
              "  }\n",
              "</style>\n",
              "\n",
              "  <script>\n",
              "    async function quickchart(key) {\n",
              "      const quickchartButtonEl =\n",
              "        document.querySelector('#' + key + ' button');\n",
              "      quickchartButtonEl.disabled = true;  // To prevent multiple clicks.\n",
              "      quickchartButtonEl.classList.add('colab-df-spinner');\n",
              "      try {\n",
              "        const charts = await google.colab.kernel.invokeFunction(\n",
              "            'suggestCharts', [key], {});\n",
              "      } catch (error) {\n",
              "        console.error('Error during call to suggestCharts:', error);\n",
              "      }\n",
              "      quickchartButtonEl.classList.remove('colab-df-spinner');\n",
              "      quickchartButtonEl.classList.add('colab-df-quickchart-complete');\n",
              "    }\n",
              "    (() => {\n",
              "      let quickchartButtonEl =\n",
              "        document.querySelector('#df-f6fe9a63-8e55-4a4f-a3a8-d0ac96678e14 button');\n",
              "      quickchartButtonEl.style.display =\n",
              "        google.colab.kernel.accessAllowed ? 'block' : 'none';\n",
              "    })();\n",
              "  </script>\n",
              "</div>\n",
              "\n",
              "    </div>\n",
              "  </div>\n"
            ]
          },
          "metadata": {},
          "execution_count": 48
        }
      ]
    },
    {
      "cell_type": "code",
      "source": [
        "fake = test.fakeornot.str.count(\"fake\").sum()\n",
        "original = test.fakeornot.str.count(\"original\").sum()\n",
        "\n",
        "print(fake)\n",
        "print(original)"
      ],
      "metadata": {
        "id": "liyy3_AC19Tw",
        "colab": {
          "base_uri": "https://localhost:8080/"
        },
        "outputId": "c6b560b3-5ba6-4199-979d-07559a1d3384"
      },
      "execution_count": 49,
      "outputs": [
        {
          "output_type": "stream",
          "name": "stdout",
          "text": [
            "33\n",
            "210\n"
          ]
        }
      ]
    },
    {
      "cell_type": "code",
      "source": [
        "test['comment'].loc[(test.fakeornot == 'fake')]"
      ],
      "metadata": {
        "id": "dcAeWFpG19Xj"
      },
      "execution_count": null,
      "outputs": []
    },
    {
      "cell_type": "code",
      "source": [
        "test['comment'].loc[(test.fakeornot == 'original')]"
      ],
      "metadata": {
        "id": "fm58NVum19bn",
        "colab": {
          "base_uri": "https://localhost:8080/"
        },
        "outputId": "9d9177a3-e7cf-4f96-a37d-2ba14f7a26ac"
      },
      "execution_count": 51,
      "outputs": [
        {
          "output_type": "execute_result",
          "data": {
            "text/plain": [
              "0      colour black material quality ok2 item receive...\n",
              "1      colour black material quality ok2 item receive...\n",
              "2      colour white and black strip material quality ...\n",
              "3      colour white and black strip material quality ...\n",
              "4      material quality very bad quality even the sch...\n",
              "                             ...                        \n",
              "238    the attention to detail in the design is truly...\n",
              "239    perfect for collectors and enthusiasts alike a...\n",
              "240    the cushioning technology feels like walking o...\n",
              "241    the nostalgia factor combined with modern tech...\n",
              "242    no regrets with this purchase jordans are an i...\n",
              "Name: comment, Length: 210, dtype: object"
            ]
          },
          "metadata": {},
          "execution_count": 51
        }
      ]
    }
  ]
}
